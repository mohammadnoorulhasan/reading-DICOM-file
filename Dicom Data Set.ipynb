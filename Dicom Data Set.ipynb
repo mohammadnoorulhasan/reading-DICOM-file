{
 "cells": [
  {
   "cell_type": "markdown",
   "metadata": {},
   "source": [
    "# <font color=\"Blue\" size = \"32\"><center>Read DICOM files<center>"
   ]
  },
  {
   "cell_type": "markdown",
   "metadata": {},
   "source": [
    "Import pydicom module which enable us to read dicom files"
   ]
  },
  {
   "cell_type": "code",
   "execution_count": 1,
   "metadata": {},
   "outputs": [],
   "source": [
    "import pydicom"
   ]
  },
  {
   "cell_type": "markdown",
   "metadata": {},
   "source": [
    "Set file path with file name"
   ]
  },
  {
   "cell_type": "code",
   "execution_count": 2,
   "metadata": {},
   "outputs": [],
   "source": [
    "TTFMfilename = \"ttfm.dcm\"\n",
    "BModefilename = \"bmode.dcm\""
   ]
  },
  {
   "cell_type": "markdown",
   "metadata": {},
   "source": [
    "Load the dataset into the memory using pydicom.dcmread() function<br>\n",
    "This function returns information of dicom file"
   ]
  },
  {
   "cell_type": "code",
   "execution_count": 3,
   "metadata": {},
   "outputs": [],
   "source": [
    "TTFMDataSet = pydicom.dcmread(TTFMfilename)\n",
    "BModeDataSet = pydicom.dcmread(BModefilename)"
   ]
  },
  {
   "cell_type": "markdown",
   "metadata": {},
   "source": [
    "Retrive the tag name from data set using dir() function "
   ]
  },
  {
   "cell_type": "code",
   "execution_count": 4,
   "metadata": {},
   "outputs": [],
   "source": [
    "TTFMTagName = TTFMDataSet.dir()\n",
    "BModeTagName = BModeDataSet.dir()"
   ]
  },
  {
   "cell_type": "markdown",
   "metadata": {},
   "source": [
    "Set path for output file with its name"
   ]
  },
  {
   "cell_type": "code",
   "execution_count": 5,
   "metadata": {},
   "outputs": [],
   "source": [
    "outputFileName = \"output.txt\"\n",
    "outputFile = open(outputFileName,\"w+\")"
   ]
  },
  {
   "cell_type": "markdown",
   "metadata": {},
   "source": [
    "Save Tag information of TTFM.dcm file in output file "
   ]
  },
  {
   "cell_type": "code",
   "execution_count": 6,
   "metadata": {},
   "outputs": [
    {
     "data": {
      "text/plain": [
       "79"
      ]
     },
     "execution_count": 6,
     "metadata": {},
     "output_type": "execute_result"
    }
   ],
   "source": [
    "outputFile.write(\"Tag information for TTFM.dcm file\\n\")\n",
    "outputFile.write(\"Tag \\t\\t| Value Representation \\t| Tag Name\\n\")\n",
    "for tagName in TTFMTagName:\n",
    "    data_element = TTFMDataSet.data_element(tagName)\n",
    "    outputFile.write(str(data_element.tag)+\"\\t|\\t\"+data_element.VR+\"\\t\\t|\"+data_element.name+\"\\n\")\n",
    "outputFile.write(\"------------------------------------------------------------------------------\\n\")"
   ]
  },
  {
   "cell_type": "markdown",
   "metadata": {},
   "source": [
    "Save Tag information of BMode.dcm file in output file "
   ]
  },
  {
   "cell_type": "code",
   "execution_count": 7,
   "metadata": {},
   "outputs": [
    {
     "data": {
      "text/plain": [
       "79"
      ]
     },
     "execution_count": 7,
     "metadata": {},
     "output_type": "execute_result"
    }
   ],
   "source": [
    "outputFile.write(\"Tag information for BMode.dcm file\\n\")\n",
    "outputFile.write(\"Tag \\t\\t| Value Representation \\t| Tag Name\\n\")\n",
    "for tagName in BModeTagName:\n",
    "    data_element = BModeDataSet.data_element(tagName)\n",
    "    outputFile.write(str(data_element.tag)+\"\\t|\\t\"+data_element.VR+\"\\t\\t|\"+data_element.name+\"\\n\")\n",
    "outputFile.write(\"------------------------------------------------------------------------------\\n\")"
   ]
  },
  {
   "cell_type": "markdown",
   "metadata": {},
   "source": [
    "Close the output file"
   ]
  },
  {
   "cell_type": "code",
   "execution_count": 8,
   "metadata": {},
   "outputs": [],
   "source": [
    "outputFile.close()"
   ]
  },
  {
   "cell_type": "code",
   "execution_count": null,
   "metadata": {},
   "outputs": [],
   "source": []
  }
 ],
 "metadata": {
  "kernelspec": {
   "display_name": "Python 3",
   "language": "python",
   "name": "python3"
  },
  "language_info": {
   "codemirror_mode": {
    "name": "ipython",
    "version": 3
   },
   "file_extension": ".py",
   "mimetype": "text/x-python",
   "name": "python",
   "nbconvert_exporter": "python",
   "pygments_lexer": "ipython3",
   "version": "3.6.7"
  }
 },
 "nbformat": 4,
 "nbformat_minor": 2
}
